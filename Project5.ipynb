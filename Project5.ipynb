{
  "nbformat": 4,
  "nbformat_minor": 0,
  "metadata": {
    "colab": {
      "provenance": [],
      "collapsed_sections": [
        "5g7JPEM0pT3W",
        "ejXjH2K2q-qq",
        "zqTDEMfEVPeU",
        "IzuwpqYfbVlU",
        "Rp-3d33kih5l",
        "lnTs5Ejhmzxo",
        "R0w4_NcY1Op8",
        "o_bZOM5xC5B-"
      ]
    },
    "kernelspec": {
      "name": "python3",
      "display_name": "Python 3"
    },
    "language_info": {
      "name": "python"
    }
  },
  "cells": [
    {
      "cell_type": "markdown",
      "source": [
        "#Project 5 - On Wednsdays, We Wear Pink"
      ],
      "metadata": {
        "id": "OqJ1XSHlpK2e"
      }
    },
    {
      "cell_type": "markdown",
      "source": [
        "#Introduction"
      ],
      "metadata": {
        "id": "5g7JPEM0pT3W"
      }
    },
    {
      "cell_type": "markdown",
      "source": [
        "One thing everyone has in common (hopefully), is that we all wear clothes. Except for machines. To help give machines some of the satisfaction of wearing or knowning about clothes, six different models will be created: a Support Vector Machine Classifier, a Random Forest Classifier, an XGBoost Classifier, a\n",
        "Perceptron, a Multi-Layer Neural Network, and a Convolutional Neural Network."
      ],
      "metadata": {
        "id": "TcZSi64kpVYk"
      }
    },
    {
      "cell_type": "markdown",
      "source": [
        "#Exploratory Data"
      ],
      "metadata": {
        "id": "ejXjH2K2q-qq"
      }
    },
    {
      "cell_type": "code",
      "execution_count": null,
      "metadata": {
        "id": "icXMUaTDpJkP"
      },
      "outputs": [],
      "source": [
        "import tensorflow as tf\n",
        "import numpy as np\n",
        "import matplotlib.pyplot as plt\n",
        "import keras\n",
        "from keras.datasets import mnist\n",
        "from keras.layers import Dense\n",
        "from keras.models import Sequential\n",
        "import tensorflow as tf\n",
        "from matplotlib import pyplot as plt\n",
        "from random import randint\n",
        "from sklearn.model_selection import train_test_split\n",
        "from sklearn.decomposition import PCA\n",
        "from sklearn.preprocessing import StandardScaler\n",
        "from sklearn import metrics\n",
        "import seaborn as sns\n",
        "import matplotlib.pyplot as plt\n",
        "%matplotlib inline\n",
        "import numpy as np\n",
        "import pandas as pd\n",
        "from sklearn.linear_model import LinearRegression\n",
        "import seaborn as sns\n",
        "import matplotlib.pyplot as plt\n",
        "from sklearn.model_selection import train_test_split\n",
        "from sklearn import metrics\n",
        "from sklearn.svm import SVR\n",
        "plt.rcParams['figure.figsize'] = [8, 8]\n",
        "sns.set(color_codes=True)\n",
        "from sklearn.model_selection import train_test_split\n",
        "from sklearn.decomposition import PCA\n",
        "from sklearn.preprocessing import StandardScaler\n",
        "from sklearn import metrics\n",
        "import seaborn as sns\n",
        "import matplotlib.pyplot as plt\n",
        "%matplotlib inline\n",
        "import keras\n",
        "from keras.datasets import mnist\n",
        "from keras.layers import Dense\n",
        "from keras.models import Sequential\n",
        "import tensorflow as tf\n",
        "from matplotlib import pyplot as plt\n",
        "from random import randint\n",
        "from matplotlib import pyplot as plt\n",
        "from random import randint\n",
        "import numpy as np"
      ]
    },
    {
      "cell_type": "code",
      "source": [
        "path = '/content/drive/MyDrive/mlData/'\n",
        "file = path + 'fashiontrain.csv'\n",
        "\n",
        "fashion1 = pd.read_csv(file)\n",
        "#fashion.head()\n",
        "file = path + 'fashiontest.csv'\n",
        "fashion2 = pd.read_csv(file)\n"
      ],
      "metadata": {
        "id": "VXtKcq0frEd1"
      },
      "execution_count": null,
      "outputs": []
    },
    {
      "cell_type": "code",
      "source": [
        "fashion = fashion1.append(fashion2, ignore_index=True)"
      ],
      "metadata": {
        "id": "peZndgHGrcDb"
      },
      "execution_count": null,
      "outputs": []
    },
    {
      "cell_type": "code",
      "source": [
        "fashion.shape"
      ],
      "metadata": {
        "colab": {
          "base_uri": "https://localhost:8080/"
        },
        "id": "2Eit5jlKM6NV",
        "outputId": "41838b4f-9286-4190-ee13-e5b088e362f4"
      },
      "execution_count": null,
      "outputs": [
        {
          "output_type": "execute_result",
          "data": {
            "text/plain": [
              "(70000, 785)"
            ]
          },
          "metadata": {},
          "execution_count": 4
        }
      ]
    },
    {
      "cell_type": "code",
      "source": [
        "fashion.head()"
      ],
      "metadata": {
        "colab": {
          "base_uri": "https://localhost:8080/",
          "height": 299
        },
        "id": "quLaUIi_0vy6",
        "outputId": "98a49e66-cdf6-4483-d061-eb3145735841"
      },
      "execution_count": null,
      "outputs": [
        {
          "output_type": "execute_result",
          "data": {
            "text/plain": [
              "   label  pixel1  pixel2  pixel3  pixel4  pixel5  pixel6  pixel7  pixel8  \\\n",
              "0      2       0       0       0       0       0       0       0       0   \n",
              "1      9       0       0       0       0       0       0       0       0   \n",
              "2      6       0       0       0       0       0       0       0       5   \n",
              "3      0       0       0       0       1       2       0       0       0   \n",
              "4      3       0       0       0       0       0       0       0       0   \n",
              "\n",
              "   pixel9  ...  pixel775  pixel776  pixel777  pixel778  pixel779  pixel780  \\\n",
              "0       0  ...         0         0         0         0         0         0   \n",
              "1       0  ...         0         0         0         0         0         0   \n",
              "2       0  ...         0         0         0        30        43         0   \n",
              "3       0  ...         3         0         0         0         0         1   \n",
              "4       0  ...         0         0         0         0         0         0   \n",
              "\n",
              "   pixel781  pixel782  pixel783  pixel784  \n",
              "0         0         0         0         0  \n",
              "1         0         0         0         0  \n",
              "2         0         0         0         0  \n",
              "3         0         0         0         0  \n",
              "4         0         0         0         0  \n",
              "\n",
              "[5 rows x 785 columns]"
            ],
            "text/html": [
              "\n",
              "  <div id=\"df-2472fcad-a090-4810-a1ef-9e6b8598efbe\">\n",
              "    <div class=\"colab-df-container\">\n",
              "      <div>\n",
              "<style scoped>\n",
              "    .dataframe tbody tr th:only-of-type {\n",
              "        vertical-align: middle;\n",
              "    }\n",
              "\n",
              "    .dataframe tbody tr th {\n",
              "        vertical-align: top;\n",
              "    }\n",
              "\n",
              "    .dataframe thead th {\n",
              "        text-align: right;\n",
              "    }\n",
              "</style>\n",
              "<table border=\"1\" class=\"dataframe\">\n",
              "  <thead>\n",
              "    <tr style=\"text-align: right;\">\n",
              "      <th></th>\n",
              "      <th>label</th>\n",
              "      <th>pixel1</th>\n",
              "      <th>pixel2</th>\n",
              "      <th>pixel3</th>\n",
              "      <th>pixel4</th>\n",
              "      <th>pixel5</th>\n",
              "      <th>pixel6</th>\n",
              "      <th>pixel7</th>\n",
              "      <th>pixel8</th>\n",
              "      <th>pixel9</th>\n",
              "      <th>...</th>\n",
              "      <th>pixel775</th>\n",
              "      <th>pixel776</th>\n",
              "      <th>pixel777</th>\n",
              "      <th>pixel778</th>\n",
              "      <th>pixel779</th>\n",
              "      <th>pixel780</th>\n",
              "      <th>pixel781</th>\n",
              "      <th>pixel782</th>\n",
              "      <th>pixel783</th>\n",
              "      <th>pixel784</th>\n",
              "    </tr>\n",
              "  </thead>\n",
              "  <tbody>\n",
              "    <tr>\n",
              "      <th>0</th>\n",
              "      <td>2</td>\n",
              "      <td>0</td>\n",
              "      <td>0</td>\n",
              "      <td>0</td>\n",
              "      <td>0</td>\n",
              "      <td>0</td>\n",
              "      <td>0</td>\n",
              "      <td>0</td>\n",
              "      <td>0</td>\n",
              "      <td>0</td>\n",
              "      <td>...</td>\n",
              "      <td>0</td>\n",
              "      <td>0</td>\n",
              "      <td>0</td>\n",
              "      <td>0</td>\n",
              "      <td>0</td>\n",
              "      <td>0</td>\n",
              "      <td>0</td>\n",
              "      <td>0</td>\n",
              "      <td>0</td>\n",
              "      <td>0</td>\n",
              "    </tr>\n",
              "    <tr>\n",
              "      <th>1</th>\n",
              "      <td>9</td>\n",
              "      <td>0</td>\n",
              "      <td>0</td>\n",
              "      <td>0</td>\n",
              "      <td>0</td>\n",
              "      <td>0</td>\n",
              "      <td>0</td>\n",
              "      <td>0</td>\n",
              "      <td>0</td>\n",
              "      <td>0</td>\n",
              "      <td>...</td>\n",
              "      <td>0</td>\n",
              "      <td>0</td>\n",
              "      <td>0</td>\n",
              "      <td>0</td>\n",
              "      <td>0</td>\n",
              "      <td>0</td>\n",
              "      <td>0</td>\n",
              "      <td>0</td>\n",
              "      <td>0</td>\n",
              "      <td>0</td>\n",
              "    </tr>\n",
              "    <tr>\n",
              "      <th>2</th>\n",
              "      <td>6</td>\n",
              "      <td>0</td>\n",
              "      <td>0</td>\n",
              "      <td>0</td>\n",
              "      <td>0</td>\n",
              "      <td>0</td>\n",
              "      <td>0</td>\n",
              "      <td>0</td>\n",
              "      <td>5</td>\n",
              "      <td>0</td>\n",
              "      <td>...</td>\n",
              "      <td>0</td>\n",
              "      <td>0</td>\n",
              "      <td>0</td>\n",
              "      <td>30</td>\n",
              "      <td>43</td>\n",
              "      <td>0</td>\n",
              "      <td>0</td>\n",
              "      <td>0</td>\n",
              "      <td>0</td>\n",
              "      <td>0</td>\n",
              "    </tr>\n",
              "    <tr>\n",
              "      <th>3</th>\n",
              "      <td>0</td>\n",
              "      <td>0</td>\n",
              "      <td>0</td>\n",
              "      <td>0</td>\n",
              "      <td>1</td>\n",
              "      <td>2</td>\n",
              "      <td>0</td>\n",
              "      <td>0</td>\n",
              "      <td>0</td>\n",
              "      <td>0</td>\n",
              "      <td>...</td>\n",
              "      <td>3</td>\n",
              "      <td>0</td>\n",
              "      <td>0</td>\n",
              "      <td>0</td>\n",
              "      <td>0</td>\n",
              "      <td>1</td>\n",
              "      <td>0</td>\n",
              "      <td>0</td>\n",
              "      <td>0</td>\n",
              "      <td>0</td>\n",
              "    </tr>\n",
              "    <tr>\n",
              "      <th>4</th>\n",
              "      <td>3</td>\n",
              "      <td>0</td>\n",
              "      <td>0</td>\n",
              "      <td>0</td>\n",
              "      <td>0</td>\n",
              "      <td>0</td>\n",
              "      <td>0</td>\n",
              "      <td>0</td>\n",
              "      <td>0</td>\n",
              "      <td>0</td>\n",
              "      <td>...</td>\n",
              "      <td>0</td>\n",
              "      <td>0</td>\n",
              "      <td>0</td>\n",
              "      <td>0</td>\n",
              "      <td>0</td>\n",
              "      <td>0</td>\n",
              "      <td>0</td>\n",
              "      <td>0</td>\n",
              "      <td>0</td>\n",
              "      <td>0</td>\n",
              "    </tr>\n",
              "  </tbody>\n",
              "</table>\n",
              "<p>5 rows × 785 columns</p>\n",
              "</div>\n",
              "      <button class=\"colab-df-convert\" onclick=\"convertToInteractive('df-2472fcad-a090-4810-a1ef-9e6b8598efbe')\"\n",
              "              title=\"Convert this dataframe to an interactive table.\"\n",
              "              style=\"display:none;\">\n",
              "        \n",
              "  <svg xmlns=\"http://www.w3.org/2000/svg\" height=\"24px\"viewBox=\"0 0 24 24\"\n",
              "       width=\"24px\">\n",
              "    <path d=\"M0 0h24v24H0V0z\" fill=\"none\"/>\n",
              "    <path d=\"M18.56 5.44l.94 2.06.94-2.06 2.06-.94-2.06-.94-.94-2.06-.94 2.06-2.06.94zm-11 1L8.5 8.5l.94-2.06 2.06-.94-2.06-.94L8.5 2.5l-.94 2.06-2.06.94zm10 10l.94 2.06.94-2.06 2.06-.94-2.06-.94-.94-2.06-.94 2.06-2.06.94z\"/><path d=\"M17.41 7.96l-1.37-1.37c-.4-.4-.92-.59-1.43-.59-.52 0-1.04.2-1.43.59L10.3 9.45l-7.72 7.72c-.78.78-.78 2.05 0 2.83L4 21.41c.39.39.9.59 1.41.59.51 0 1.02-.2 1.41-.59l7.78-7.78 2.81-2.81c.8-.78.8-2.07 0-2.86zM5.41 20L4 18.59l7.72-7.72 1.47 1.35L5.41 20z\"/>\n",
              "  </svg>\n",
              "      </button>\n",
              "      \n",
              "  <style>\n",
              "    .colab-df-container {\n",
              "      display:flex;\n",
              "      flex-wrap:wrap;\n",
              "      gap: 12px;\n",
              "    }\n",
              "\n",
              "    .colab-df-convert {\n",
              "      background-color: #E8F0FE;\n",
              "      border: none;\n",
              "      border-radius: 50%;\n",
              "      cursor: pointer;\n",
              "      display: none;\n",
              "      fill: #1967D2;\n",
              "      height: 32px;\n",
              "      padding: 0 0 0 0;\n",
              "      width: 32px;\n",
              "    }\n",
              "\n",
              "    .colab-df-convert:hover {\n",
              "      background-color: #E2EBFA;\n",
              "      box-shadow: 0px 1px 2px rgba(60, 64, 67, 0.3), 0px 1px 3px 1px rgba(60, 64, 67, 0.15);\n",
              "      fill: #174EA6;\n",
              "    }\n",
              "\n",
              "    [theme=dark] .colab-df-convert {\n",
              "      background-color: #3B4455;\n",
              "      fill: #D2E3FC;\n",
              "    }\n",
              "\n",
              "    [theme=dark] .colab-df-convert:hover {\n",
              "      background-color: #434B5C;\n",
              "      box-shadow: 0px 1px 3px 1px rgba(0, 0, 0, 0.15);\n",
              "      filter: drop-shadow(0px 1px 2px rgba(0, 0, 0, 0.3));\n",
              "      fill: #FFFFFF;\n",
              "    }\n",
              "  </style>\n",
              "\n",
              "      <script>\n",
              "        const buttonEl =\n",
              "          document.querySelector('#df-2472fcad-a090-4810-a1ef-9e6b8598efbe button.colab-df-convert');\n",
              "        buttonEl.style.display =\n",
              "          google.colab.kernel.accessAllowed ? 'block' : 'none';\n",
              "\n",
              "        async function convertToInteractive(key) {\n",
              "          const element = document.querySelector('#df-2472fcad-a090-4810-a1ef-9e6b8598efbe');\n",
              "          const dataTable =\n",
              "            await google.colab.kernel.invokeFunction('convertToInteractive',\n",
              "                                                     [key], {});\n",
              "          if (!dataTable) return;\n",
              "\n",
              "          const docLinkHtml = 'Like what you see? Visit the ' +\n",
              "            '<a target=\"_blank\" href=https://colab.research.google.com/notebooks/data_table.ipynb>data table notebook</a>'\n",
              "            + ' to learn more about interactive tables.';\n",
              "          element.innerHTML = '';\n",
              "          dataTable['output_type'] = 'display_data';\n",
              "          await google.colab.output.renderOutput(dataTable, element);\n",
              "          const docLink = document.createElement('div');\n",
              "          docLink.innerHTML = docLinkHtml;\n",
              "          element.appendChild(docLink);\n",
              "        }\n",
              "      </script>\n",
              "    </div>\n",
              "  </div>\n",
              "  "
            ]
          },
          "metadata": {},
          "execution_count": 5
        }
      ]
    },
    {
      "cell_type": "code",
      "source": [
        "fashion['label'].describe()"
      ],
      "metadata": {
        "colab": {
          "base_uri": "https://localhost:8080/"
        },
        "id": "d289ZAqD4CTD",
        "outputId": "1f68b427-7c0a-495f-b1ff-e6589015ba7b"
      },
      "execution_count": null,
      "outputs": [
        {
          "output_type": "execute_result",
          "data": {
            "text/plain": [
              "count    70000.000000\n",
              "mean         4.500000\n",
              "std          2.872302\n",
              "min          0.000000\n",
              "25%          2.000000\n",
              "50%          4.500000\n",
              "75%          7.000000\n",
              "max          9.000000\n",
              "Name: label, dtype: float64"
            ]
          },
          "metadata": {},
          "execution_count": 6
        }
      ]
    },
    {
      "cell_type": "code",
      "source": [
        "fashion.isnull().any()\n",
        "fashion.dropna()"
      ],
      "metadata": {
        "colab": {
          "base_uri": "https://localhost:8080/",
          "height": 488
        },
        "id": "z7f9uDokRvzl",
        "outputId": "03aa4530-50cf-4856-a785-89cee45ccf9d"
      },
      "execution_count": null,
      "outputs": [
        {
          "output_type": "execute_result",
          "data": {
            "text/plain": [
              "       label  pixel1  pixel2  pixel3  pixel4  pixel5  pixel6  pixel7  pixel8  \\\n",
              "0          2       0       0       0       0       0       0       0       0   \n",
              "1          9       0       0       0       0       0       0       0       0   \n",
              "2          6       0       0       0       0       0       0       0       5   \n",
              "3          0       0       0       0       1       2       0       0       0   \n",
              "4          3       0       0       0       0       0       0       0       0   \n",
              "...      ...     ...     ...     ...     ...     ...     ...     ...     ...   \n",
              "69995      0       0       0       0       0       0       0       0       0   \n",
              "69996      6       0       0       0       0       0       0       0       0   \n",
              "69997      8       0       0       0       0       0       0       0       0   \n",
              "69998      8       0       1       3       0       0       0       0       0   \n",
              "69999      1       0       0       0       0       0       0       0     140   \n",
              "\n",
              "       pixel9  ...  pixel775  pixel776  pixel777  pixel778  pixel779  \\\n",
              "0           0  ...         0         0         0         0         0   \n",
              "1           0  ...         0         0         0         0         0   \n",
              "2           0  ...         0         0         0        30        43   \n",
              "3           0  ...         3         0         0         0         0   \n",
              "4           0  ...         0         0         0         0         0   \n",
              "...       ...  ...       ...       ...       ...       ...       ...   \n",
              "69995       0  ...        32        23        14        20         0   \n",
              "69996       0  ...         0         0         0         2        52   \n",
              "69997       0  ...       175       172       172       182       199   \n",
              "69998       0  ...         0         0         0         0         0   \n",
              "69999     119  ...       111        95        75        44         1   \n",
              "\n",
              "       pixel780  pixel781  pixel782  pixel783  pixel784  \n",
              "0             0         0         0         0         0  \n",
              "1             0         0         0         0         0  \n",
              "2             0         0         0         0         0  \n",
              "3             1         0         0         0         0  \n",
              "4             0         0         0         0         0  \n",
              "...         ...       ...       ...       ...       ...  \n",
              "69995         0         1         0         0         0  \n",
              "69996        23        28         0         0         0  \n",
              "69997       222        42         0         1         0  \n",
              "69998         1         0         0         0         0  \n",
              "69999         0         0         0         0         0  \n",
              "\n",
              "[70000 rows x 785 columns]"
            ],
            "text/html": [
              "\n",
              "  <div id=\"df-a403a90f-6642-4e71-bd10-3eee2f18613f\">\n",
              "    <div class=\"colab-df-container\">\n",
              "      <div>\n",
              "<style scoped>\n",
              "    .dataframe tbody tr th:only-of-type {\n",
              "        vertical-align: middle;\n",
              "    }\n",
              "\n",
              "    .dataframe tbody tr th {\n",
              "        vertical-align: top;\n",
              "    }\n",
              "\n",
              "    .dataframe thead th {\n",
              "        text-align: right;\n",
              "    }\n",
              "</style>\n",
              "<table border=\"1\" class=\"dataframe\">\n",
              "  <thead>\n",
              "    <tr style=\"text-align: right;\">\n",
              "      <th></th>\n",
              "      <th>label</th>\n",
              "      <th>pixel1</th>\n",
              "      <th>pixel2</th>\n",
              "      <th>pixel3</th>\n",
              "      <th>pixel4</th>\n",
              "      <th>pixel5</th>\n",
              "      <th>pixel6</th>\n",
              "      <th>pixel7</th>\n",
              "      <th>pixel8</th>\n",
              "      <th>pixel9</th>\n",
              "      <th>...</th>\n",
              "      <th>pixel775</th>\n",
              "      <th>pixel776</th>\n",
              "      <th>pixel777</th>\n",
              "      <th>pixel778</th>\n",
              "      <th>pixel779</th>\n",
              "      <th>pixel780</th>\n",
              "      <th>pixel781</th>\n",
              "      <th>pixel782</th>\n",
              "      <th>pixel783</th>\n",
              "      <th>pixel784</th>\n",
              "    </tr>\n",
              "  </thead>\n",
              "  <tbody>\n",
              "    <tr>\n",
              "      <th>0</th>\n",
              "      <td>2</td>\n",
              "      <td>0</td>\n",
              "      <td>0</td>\n",
              "      <td>0</td>\n",
              "      <td>0</td>\n",
              "      <td>0</td>\n",
              "      <td>0</td>\n",
              "      <td>0</td>\n",
              "      <td>0</td>\n",
              "      <td>0</td>\n",
              "      <td>...</td>\n",
              "      <td>0</td>\n",
              "      <td>0</td>\n",
              "      <td>0</td>\n",
              "      <td>0</td>\n",
              "      <td>0</td>\n",
              "      <td>0</td>\n",
              "      <td>0</td>\n",
              "      <td>0</td>\n",
              "      <td>0</td>\n",
              "      <td>0</td>\n",
              "    </tr>\n",
              "    <tr>\n",
              "      <th>1</th>\n",
              "      <td>9</td>\n",
              "      <td>0</td>\n",
              "      <td>0</td>\n",
              "      <td>0</td>\n",
              "      <td>0</td>\n",
              "      <td>0</td>\n",
              "      <td>0</td>\n",
              "      <td>0</td>\n",
              "      <td>0</td>\n",
              "      <td>0</td>\n",
              "      <td>...</td>\n",
              "      <td>0</td>\n",
              "      <td>0</td>\n",
              "      <td>0</td>\n",
              "      <td>0</td>\n",
              "      <td>0</td>\n",
              "      <td>0</td>\n",
              "      <td>0</td>\n",
              "      <td>0</td>\n",
              "      <td>0</td>\n",
              "      <td>0</td>\n",
              "    </tr>\n",
              "    <tr>\n",
              "      <th>2</th>\n",
              "      <td>6</td>\n",
              "      <td>0</td>\n",
              "      <td>0</td>\n",
              "      <td>0</td>\n",
              "      <td>0</td>\n",
              "      <td>0</td>\n",
              "      <td>0</td>\n",
              "      <td>0</td>\n",
              "      <td>5</td>\n",
              "      <td>0</td>\n",
              "      <td>...</td>\n",
              "      <td>0</td>\n",
              "      <td>0</td>\n",
              "      <td>0</td>\n",
              "      <td>30</td>\n",
              "      <td>43</td>\n",
              "      <td>0</td>\n",
              "      <td>0</td>\n",
              "      <td>0</td>\n",
              "      <td>0</td>\n",
              "      <td>0</td>\n",
              "    </tr>\n",
              "    <tr>\n",
              "      <th>3</th>\n",
              "      <td>0</td>\n",
              "      <td>0</td>\n",
              "      <td>0</td>\n",
              "      <td>0</td>\n",
              "      <td>1</td>\n",
              "      <td>2</td>\n",
              "      <td>0</td>\n",
              "      <td>0</td>\n",
              "      <td>0</td>\n",
              "      <td>0</td>\n",
              "      <td>...</td>\n",
              "      <td>3</td>\n",
              "      <td>0</td>\n",
              "      <td>0</td>\n",
              "      <td>0</td>\n",
              "      <td>0</td>\n",
              "      <td>1</td>\n",
              "      <td>0</td>\n",
              "      <td>0</td>\n",
              "      <td>0</td>\n",
              "      <td>0</td>\n",
              "    </tr>\n",
              "    <tr>\n",
              "      <th>4</th>\n",
              "      <td>3</td>\n",
              "      <td>0</td>\n",
              "      <td>0</td>\n",
              "      <td>0</td>\n",
              "      <td>0</td>\n",
              "      <td>0</td>\n",
              "      <td>0</td>\n",
              "      <td>0</td>\n",
              "      <td>0</td>\n",
              "      <td>0</td>\n",
              "      <td>...</td>\n",
              "      <td>0</td>\n",
              "      <td>0</td>\n",
              "      <td>0</td>\n",
              "      <td>0</td>\n",
              "      <td>0</td>\n",
              "      <td>0</td>\n",
              "      <td>0</td>\n",
              "      <td>0</td>\n",
              "      <td>0</td>\n",
              "      <td>0</td>\n",
              "    </tr>\n",
              "    <tr>\n",
              "      <th>...</th>\n",
              "      <td>...</td>\n",
              "      <td>...</td>\n",
              "      <td>...</td>\n",
              "      <td>...</td>\n",
              "      <td>...</td>\n",
              "      <td>...</td>\n",
              "      <td>...</td>\n",
              "      <td>...</td>\n",
              "      <td>...</td>\n",
              "      <td>...</td>\n",
              "      <td>...</td>\n",
              "      <td>...</td>\n",
              "      <td>...</td>\n",
              "      <td>...</td>\n",
              "      <td>...</td>\n",
              "      <td>...</td>\n",
              "      <td>...</td>\n",
              "      <td>...</td>\n",
              "      <td>...</td>\n",
              "      <td>...</td>\n",
              "      <td>...</td>\n",
              "    </tr>\n",
              "    <tr>\n",
              "      <th>69995</th>\n",
              "      <td>0</td>\n",
              "      <td>0</td>\n",
              "      <td>0</td>\n",
              "      <td>0</td>\n",
              "      <td>0</td>\n",
              "      <td>0</td>\n",
              "      <td>0</td>\n",
              "      <td>0</td>\n",
              "      <td>0</td>\n",
              "      <td>0</td>\n",
              "      <td>...</td>\n",
              "      <td>32</td>\n",
              "      <td>23</td>\n",
              "      <td>14</td>\n",
              "      <td>20</td>\n",
              "      <td>0</td>\n",
              "      <td>0</td>\n",
              "      <td>1</td>\n",
              "      <td>0</td>\n",
              "      <td>0</td>\n",
              "      <td>0</td>\n",
              "    </tr>\n",
              "    <tr>\n",
              "      <th>69996</th>\n",
              "      <td>6</td>\n",
              "      <td>0</td>\n",
              "      <td>0</td>\n",
              "      <td>0</td>\n",
              "      <td>0</td>\n",
              "      <td>0</td>\n",
              "      <td>0</td>\n",
              "      <td>0</td>\n",
              "      <td>0</td>\n",
              "      <td>0</td>\n",
              "      <td>...</td>\n",
              "      <td>0</td>\n",
              "      <td>0</td>\n",
              "      <td>0</td>\n",
              "      <td>2</td>\n",
              "      <td>52</td>\n",
              "      <td>23</td>\n",
              "      <td>28</td>\n",
              "      <td>0</td>\n",
              "      <td>0</td>\n",
              "      <td>0</td>\n",
              "    </tr>\n",
              "    <tr>\n",
              "      <th>69997</th>\n",
              "      <td>8</td>\n",
              "      <td>0</td>\n",
              "      <td>0</td>\n",
              "      <td>0</td>\n",
              "      <td>0</td>\n",
              "      <td>0</td>\n",
              "      <td>0</td>\n",
              "      <td>0</td>\n",
              "      <td>0</td>\n",
              "      <td>0</td>\n",
              "      <td>...</td>\n",
              "      <td>175</td>\n",
              "      <td>172</td>\n",
              "      <td>172</td>\n",
              "      <td>182</td>\n",
              "      <td>199</td>\n",
              "      <td>222</td>\n",
              "      <td>42</td>\n",
              "      <td>0</td>\n",
              "      <td>1</td>\n",
              "      <td>0</td>\n",
              "    </tr>\n",
              "    <tr>\n",
              "      <th>69998</th>\n",
              "      <td>8</td>\n",
              "      <td>0</td>\n",
              "      <td>1</td>\n",
              "      <td>3</td>\n",
              "      <td>0</td>\n",
              "      <td>0</td>\n",
              "      <td>0</td>\n",
              "      <td>0</td>\n",
              "      <td>0</td>\n",
              "      <td>0</td>\n",
              "      <td>...</td>\n",
              "      <td>0</td>\n",
              "      <td>0</td>\n",
              "      <td>0</td>\n",
              "      <td>0</td>\n",
              "      <td>0</td>\n",
              "      <td>1</td>\n",
              "      <td>0</td>\n",
              "      <td>0</td>\n",
              "      <td>0</td>\n",
              "      <td>0</td>\n",
              "    </tr>\n",
              "    <tr>\n",
              "      <th>69999</th>\n",
              "      <td>1</td>\n",
              "      <td>0</td>\n",
              "      <td>0</td>\n",
              "      <td>0</td>\n",
              "      <td>0</td>\n",
              "      <td>0</td>\n",
              "      <td>0</td>\n",
              "      <td>0</td>\n",
              "      <td>140</td>\n",
              "      <td>119</td>\n",
              "      <td>...</td>\n",
              "      <td>111</td>\n",
              "      <td>95</td>\n",
              "      <td>75</td>\n",
              "      <td>44</td>\n",
              "      <td>1</td>\n",
              "      <td>0</td>\n",
              "      <td>0</td>\n",
              "      <td>0</td>\n",
              "      <td>0</td>\n",
              "      <td>0</td>\n",
              "    </tr>\n",
              "  </tbody>\n",
              "</table>\n",
              "<p>70000 rows × 785 columns</p>\n",
              "</div>\n",
              "      <button class=\"colab-df-convert\" onclick=\"convertToInteractive('df-a403a90f-6642-4e71-bd10-3eee2f18613f')\"\n",
              "              title=\"Convert this dataframe to an interactive table.\"\n",
              "              style=\"display:none;\">\n",
              "        \n",
              "  <svg xmlns=\"http://www.w3.org/2000/svg\" height=\"24px\"viewBox=\"0 0 24 24\"\n",
              "       width=\"24px\">\n",
              "    <path d=\"M0 0h24v24H0V0z\" fill=\"none\"/>\n",
              "    <path d=\"M18.56 5.44l.94 2.06.94-2.06 2.06-.94-2.06-.94-.94-2.06-.94 2.06-2.06.94zm-11 1L8.5 8.5l.94-2.06 2.06-.94-2.06-.94L8.5 2.5l-.94 2.06-2.06.94zm10 10l.94 2.06.94-2.06 2.06-.94-2.06-.94-.94-2.06-.94 2.06-2.06.94z\"/><path d=\"M17.41 7.96l-1.37-1.37c-.4-.4-.92-.59-1.43-.59-.52 0-1.04.2-1.43.59L10.3 9.45l-7.72 7.72c-.78.78-.78 2.05 0 2.83L4 21.41c.39.39.9.59 1.41.59.51 0 1.02-.2 1.41-.59l7.78-7.78 2.81-2.81c.8-.78.8-2.07 0-2.86zM5.41 20L4 18.59l7.72-7.72 1.47 1.35L5.41 20z\"/>\n",
              "  </svg>\n",
              "      </button>\n",
              "      \n",
              "  <style>\n",
              "    .colab-df-container {\n",
              "      display:flex;\n",
              "      flex-wrap:wrap;\n",
              "      gap: 12px;\n",
              "    }\n",
              "\n",
              "    .colab-df-convert {\n",
              "      background-color: #E8F0FE;\n",
              "      border: none;\n",
              "      border-radius: 50%;\n",
              "      cursor: pointer;\n",
              "      display: none;\n",
              "      fill: #1967D2;\n",
              "      height: 32px;\n",
              "      padding: 0 0 0 0;\n",
              "      width: 32px;\n",
              "    }\n",
              "\n",
              "    .colab-df-convert:hover {\n",
              "      background-color: #E2EBFA;\n",
              "      box-shadow: 0px 1px 2px rgba(60, 64, 67, 0.3), 0px 1px 3px 1px rgba(60, 64, 67, 0.15);\n",
              "      fill: #174EA6;\n",
              "    }\n",
              "\n",
              "    [theme=dark] .colab-df-convert {\n",
              "      background-color: #3B4455;\n",
              "      fill: #D2E3FC;\n",
              "    }\n",
              "\n",
              "    [theme=dark] .colab-df-convert:hover {\n",
              "      background-color: #434B5C;\n",
              "      box-shadow: 0px 1px 3px 1px rgba(0, 0, 0, 0.15);\n",
              "      filter: drop-shadow(0px 1px 2px rgba(0, 0, 0, 0.3));\n",
              "      fill: #FFFFFF;\n",
              "    }\n",
              "  </style>\n",
              "\n",
              "      <script>\n",
              "        const buttonEl =\n",
              "          document.querySelector('#df-a403a90f-6642-4e71-bd10-3eee2f18613f button.colab-df-convert');\n",
              "        buttonEl.style.display =\n",
              "          google.colab.kernel.accessAllowed ? 'block' : 'none';\n",
              "\n",
              "        async function convertToInteractive(key) {\n",
              "          const element = document.querySelector('#df-a403a90f-6642-4e71-bd10-3eee2f18613f');\n",
              "          const dataTable =\n",
              "            await google.colab.kernel.invokeFunction('convertToInteractive',\n",
              "                                                     [key], {});\n",
              "          if (!dataTable) return;\n",
              "\n",
              "          const docLinkHtml = 'Like what you see? Visit the ' +\n",
              "            '<a target=\"_blank\" href=https://colab.research.google.com/notebooks/data_table.ipynb>data table notebook</a>'\n",
              "            + ' to learn more about interactive tables.';\n",
              "          element.innerHTML = '';\n",
              "          dataTable['output_type'] = 'display_data';\n",
              "          await google.colab.output.renderOutput(dataTable, element);\n",
              "          const docLink = document.createElement('div');\n",
              "          docLink.innerHTML = docLinkHtml;\n",
              "          element.appendChild(docLink);\n",
              "        }\n",
              "      </script>\n",
              "    </div>\n",
              "  </div>\n",
              "  "
            ]
          },
          "metadata": {},
          "execution_count": 7
        }
      ]
    },
    {
      "cell_type": "code",
      "source": [
        "fashionV = fashion\n",
        "fashionR = fashion\n",
        "fashionXG = fashion\n",
        "fashionP = fashion"
      ],
      "metadata": {
        "id": "SOdfO_U6SA9b"
      },
      "execution_count": null,
      "outputs": []
    },
    {
      "cell_type": "markdown",
      "source": [
        "In my exploration, I decided to combine the train and test data sets from Kaggle into one larger data set and I will split it into train and test data myself. I did this so I could more easily manipulate the data to my prefrences and needs for my generated models. Once the two datasets were added together, they formed a data set of 70,000 rows and 785 columns. Pretty big"
      ],
      "metadata": {
        "id": "x0Ss6ZSaSPL9"
      }
    },
    {
      "cell_type": "markdown",
      "source": [
        "#Support Vector Machine"
      ],
      "metadata": {
        "id": "9vvLV57VSwH-"
      }
    },
    {
      "cell_type": "code",
      "source": [
        "fashionVx = fashionV.drop([\"label\"], axis = 1)\n",
        "fashionVy = fashionV[\"label\"]"
      ],
      "metadata": {
        "id": "zhGw08Q-SyOy"
      },
      "execution_count": null,
      "outputs": []
    },
    {
      "cell_type": "code",
      "source": [
        "fashionVx.shape"
      ],
      "metadata": {
        "id": "yjv3X3r3NQ75",
        "outputId": "25fabec0-ae43-433f-8826-a62286f66395",
        "colab": {
          "base_uri": "https://localhost:8080/"
        }
      },
      "execution_count": null,
      "outputs": [
        {
          "output_type": "execute_result",
          "data": {
            "text/plain": [
              "(70000, 784)"
            ]
          },
          "metadata": {},
          "execution_count": 10
        }
      ]
    },
    {
      "cell_type": "code",
      "source": [
        "fashionVy.head()"
      ],
      "metadata": {
        "colab": {
          "base_uri": "https://localhost:8080/"
        },
        "id": "mDHqjusYTXjR",
        "outputId": "f7793e62-e0a3-439a-f97f-b9094fcfe757"
      },
      "execution_count": null,
      "outputs": [
        {
          "output_type": "execute_result",
          "data": {
            "text/plain": [
              "0    2\n",
              "1    9\n",
              "2    6\n",
              "3    0\n",
              "4    3\n",
              "Name: label, dtype: int64"
            ]
          },
          "metadata": {},
          "execution_count": 12
        }
      ]
    },
    {
      "cell_type": "code",
      "source": [
        "X_train, X_test, y_train, y_test = train_test_split(fashionVx, fashionVy, test_size=0.2, random_state=10)"
      ],
      "metadata": {
        "id": "gF3SQ1iRTdSB"
      },
      "execution_count": null,
      "outputs": []
    },
    {
      "cell_type": "code",
      "source": [
        "scaler = StandardScaler()\n",
        "scaler.fit(X_train)\n",
        "X_train = scaler.transform(X_train)\n",
        "X_test = scaler.transform(X_test)"
      ],
      "metadata": {
        "id": "Li5jQOUSTmVH"
      },
      "execution_count": null,
      "outputs": []
    },
    {
      "cell_type": "code",
      "source": [
        "from sklearn.svm import SVC\n",
        "\n",
        "fashionSVC = SVC(kernel='rbf', C=1)\n",
        "fashionSVC.fit(X_train,y_train)"
      ],
      "metadata": {
        "colab": {
          "base_uri": "https://localhost:8080/"
        },
        "id": "dXLbdwf4UqUl",
        "outputId": "ba0e2652-3870-40eb-b25b-ab5657cdfbbd"
      },
      "execution_count": null,
      "outputs": [
        {
          "output_type": "execute_result",
          "data": {
            "text/plain": [
              "SVC(C=1)"
            ]
          },
          "metadata": {},
          "execution_count": 20
        }
      ]
    },
    {
      "cell_type": "code",
      "source": [
        "y_pred = fashionSVC.predict(X_test)\n",
        "print(metrics.classification_report(y_test, y_pred))"
      ],
      "metadata": {
        "colab": {
          "base_uri": "https://localhost:8080/"
        },
        "id": "8uz5IUkEVC9U",
        "outputId": "8986fda8-11d0-4194-8d2c-00f462fa0c2d"
      },
      "execution_count": null,
      "outputs": [
        {
          "output_type": "stream",
          "name": "stdout",
          "text": [
            "              precision    recall  f1-score   support\n",
            "\n",
            "           0       0.83      0.86      0.85      1417\n",
            "           1       0.99      0.98      0.98      1365\n",
            "           2       0.83      0.83      0.83      1432\n",
            "           3       0.89      0.93      0.91      1408\n",
            "           4       0.82      0.85      0.83      1401\n",
            "           5       0.97      0.95      0.96      1406\n",
            "           6       0.76      0.67      0.71      1378\n",
            "           7       0.94      0.95      0.94      1400\n",
            "           8       0.94      0.98      0.96      1369\n",
            "           9       0.96      0.95      0.96      1424\n",
            "\n",
            "    accuracy                           0.89     14000\n",
            "   macro avg       0.89      0.89      0.89     14000\n",
            "weighted avg       0.89      0.89      0.89     14000\n",
            "\n"
          ]
        }
      ]
    },
    {
      "cell_type": "markdown",
      "source": [
        "The support vector machine performed fairly well. The average precision for the 10 different clothes and accessories was 89%. For the simplicity of the model, a precision of 89% is pretty good."
      ],
      "metadata": {
        "id": "j0xFQzSbVO9V"
      }
    },
    {
      "cell_type": "markdown",
      "source": [
        "#Random Forest Classification Model"
      ],
      "metadata": {
        "id": "zqTDEMfEVPeU"
      }
    },
    {
      "cell_type": "code",
      "source": [
        "from sklearn.tree import DecisionTreeClassifier\n",
        "from sklearn.ensemble import RandomForestClassifier"
      ],
      "metadata": {
        "id": "pzXXWlG1VUPk"
      },
      "execution_count": null,
      "outputs": []
    },
    {
      "cell_type": "code",
      "source": [
        "fashionRx = fashionV.drop([\"label\"], axis = 1)\n",
        "fashionRy = fashionV[\"label\"]\n",
        "\n",
        "X_train,X_test,y_train,y_test=train_test_split(fashionRx,fashionRy,test_size=0.2,random_state=10, stratify = fashionRy)"
      ],
      "metadata": {
        "id": "CL-e3tfbXBhh"
      },
      "execution_count": null,
      "outputs": []
    },
    {
      "cell_type": "code",
      "source": [
        "scaler = StandardScaler()\n",
        "X_train = scaler.fit_transform(X_train)\n",
        "X_test = scaler.transform(X_test)"
      ],
      "metadata": {
        "id": "e7Ce39JQXOCh"
      },
      "execution_count": null,
      "outputs": []
    },
    {
      "cell_type": "code",
      "source": [
        "fashionForest = RandomForestClassifier(n_estimators=101, max_features=500,max_depth=400, random_state=10)\n",
        "fashionForest.fit(X_train, y_train)\n",
        "y_pred = fashionForest.predict(X_test)"
      ],
      "metadata": {
        "id": "xOz5Zhp2XSCw"
      },
      "execution_count": null,
      "outputs": []
    },
    {
      "cell_type": "code",
      "source": [
        "print(\"Accuracy on training set: {:.3f}\".format(fashionForest.score(X_train, y_train)))\n",
        "print(\"Accuracy on test set: {:.3f}\".format(fashionForest.score(X_test, y_test)))"
      ],
      "metadata": {
        "colab": {
          "base_uri": "https://localhost:8080/"
        },
        "id": "PDFHyyHOYCbO",
        "outputId": "0b6b0d12-b037-4eda-bcf1-bbc5ca2b79cf"
      },
      "execution_count": null,
      "outputs": [
        {
          "output_type": "stream",
          "name": "stdout",
          "text": [
            "Accuracy on training set: 1.000\n",
            "Accuracy on test set: 0.885\n"
          ]
        }
      ]
    },
    {
      "cell_type": "markdown",
      "source": [
        "The random forest classification performed with an accuracy of 89%, pretty accurate. This model took 31 minutes to run, which was annoying because it is getting late and I want to go to sleep. This model performed worse than my Support Vector Machine."
      ],
      "metadata": {
        "id": "J99dOo2nbVCr"
      }
    },
    {
      "cell_type": "markdown",
      "source": [
        "#XGBoost Classifier"
      ],
      "metadata": {
        "id": "IzuwpqYfbVlU"
      }
    },
    {
      "cell_type": "code",
      "source": [
        "import random\n",
        "import xgboost as xgb"
      ],
      "metadata": {
        "id": "CRmQC40KbZxv"
      },
      "execution_count": null,
      "outputs": []
    },
    {
      "cell_type": "code",
      "source": [
        "fashionXGx = fashionXG.drop([\"label\"], axis = 1)\n",
        "fashionXGy = fashionXG[\"label\"]\n",
        "\n",
        "X_train,X_test,y_train,y_test=train_test_split(fashionXGx,fashionXGy,test_size=0.2,random_state=10, stratify = fashionXGy)"
      ],
      "metadata": {
        "id": "oX2-oVdqbkpV"
      },
      "execution_count": null,
      "outputs": []
    },
    {
      "cell_type": "code",
      "source": [
        "xg_reg = xgb.XGBRegressor(objective ='reg:squarederror', colsample_bytree = 0.3, learning_rate = 0.001,\n",
        "                max_depth = 9, alpha = 10, n_estimators = 100)"
      ],
      "metadata": {
        "id": "iGHBjt_3b_7d"
      },
      "execution_count": null,
      "outputs": []
    },
    {
      "cell_type": "code",
      "source": [
        "xg_reg.fit(X_train, y_train)"
      ],
      "metadata": {
        "colab": {
          "base_uri": "https://localhost:8080/"
        },
        "id": "J6hF_cbhcEFF",
        "outputId": "e3754630-e841-4243-b1ee-1be96c069a98"
      },
      "execution_count": null,
      "outputs": [
        {
          "output_type": "execute_result",
          "data": {
            "text/plain": [
              "XGBRegressor(alpha=10, colsample_bytree=0.3, learning_rate=0.001, max_depth=9,\n",
              "             objective='reg:squarederror')"
            ]
          },
          "metadata": {},
          "execution_count": 32
        }
      ]
    },
    {
      "cell_type": "code",
      "source": [
        "y_pred = xg_reg.predict(X_test)\n",
        "print('Mean Absolute Error = ', metrics.mean_absolute_error(y_test, y_pred))\n",
        "print('Mean Square Error = ', metrics.mean_squared_error(y_test, y_pred))\n",
        "print('Root Mean Square Error = ', np.sqrt(metrics.mean_squared_error(y_test, y_pred)))"
      ],
      "metadata": {
        "colab": {
          "base_uri": "https://localhost:8080/"
        },
        "id": "7YR8J8jYcG9F",
        "outputId": "f9aa53c6-dee6-4f06-c7be-f7b8bea25a5c"
      },
      "execution_count": null,
      "outputs": [
        {
          "output_type": "stream",
          "name": "stdout",
          "text": [
            "Mean Absolute Error =  3.73771479698377\n",
            "Mean Square Error =  20.146877986801428\n",
            "Root Mean Square Error =  4.4885273739614675\n"
          ]
        }
      ]
    },
    {
      "cell_type": "code",
      "source": [
        "print(\"Accuracy on training set: {:.3f}\".format(xg_reg.score(X_train, y_train)))\n",
        "print(\"Accuracy on test set: {:.3f}\".format(xg_reg.score(X_test, y_test)))"
      ],
      "metadata": {
        "colab": {
          "base_uri": "https://localhost:8080/"
        },
        "id": "Q_N6N_uHirIW",
        "outputId": "02c72739-39eb-434f-c31c-616e99a1e551"
      },
      "execution_count": null,
      "outputs": [
        {
          "output_type": "stream",
          "name": "stdout",
          "text": [
            "Accuracy on training set: -1.437\n",
            "Accuracy on test set: -1.442\n"
          ]
        }
      ]
    },
    {
      "cell_type": "code",
      "source": [
        "xg_reg.score(X_train, y_train)"
      ],
      "metadata": {
        "colab": {
          "base_uri": "https://localhost:8080/"
        },
        "id": "Gw1y1b29jc4m",
        "outputId": "cf2c10bb-edcb-432a-adca-c5cd851d592a"
      },
      "execution_count": null,
      "outputs": [
        {
          "output_type": "execute_result",
          "data": {
            "text/plain": [
              "-1.4373661469710317"
            ]
          },
          "metadata": {},
          "execution_count": 36
        }
      ]
    },
    {
      "cell_type": "markdown",
      "source": [
        "This thing sucks. With a root mean square error of 4.5 and an an accuracy of -144.2% somehow, this model does awful. Much, much worse than my other models."
      ],
      "metadata": {
        "id": "wnFCUDCmi7hX"
      }
    },
    {
      "cell_type": "markdown",
      "source": [
        "#Perceptron"
      ],
      "metadata": {
        "id": "Rp-3d33kih5l"
      }
    },
    {
      "cell_type": "code",
      "source": [
        "from sklearn.linear_model import Perceptron\n",
        "\n",
        "fashionPx = fashionP.drop([\"label\"], axis = 1)\n",
        "fashionPy = fashionP[\"label\"]\n",
        "X_train, X_test, y_train, y_test = train_test_split(fashionPx, fashionPy, test_size=0.2, random_state=11)"
      ],
      "metadata": {
        "id": "8iUu7gVujgZX"
      },
      "execution_count": null,
      "outputs": []
    },
    {
      "cell_type": "code",
      "source": [
        "scale = StandardScaler()\n",
        "scale.fit(X_train)"
      ],
      "metadata": {
        "colab": {
          "base_uri": "https://localhost:8080/"
        },
        "id": "n2GW6OE2kOUh",
        "outputId": "6cfc64d1-42e9-4e47-b6b3-fab8a9ad8b9f"
      },
      "execution_count": null,
      "outputs": [
        {
          "output_type": "execute_result",
          "data": {
            "text/plain": [
              "StandardScaler()"
            ]
          },
          "metadata": {},
          "execution_count": 40
        }
      ]
    },
    {
      "cell_type": "code",
      "source": [
        "X_train = scale.transform(X_train)\n",
        "X_test = scale.transform(X_test)"
      ],
      "metadata": {
        "id": "h4-8Q6mYkWCa"
      },
      "execution_count": null,
      "outputs": []
    },
    {
      "cell_type": "code",
      "source": [
        "ppn = Perceptron(max_iter=1785, eta0=0.01, random_state=10)\n",
        "ppn.fit(X_train, y_train)"
      ],
      "metadata": {
        "colab": {
          "base_uri": "https://localhost:8080/"
        },
        "id": "LGllAl5MkXD7",
        "outputId": "eca11013-5d1e-4579-a99c-57765bc279bc"
      },
      "execution_count": null,
      "outputs": [
        {
          "output_type": "execute_result",
          "data": {
            "text/plain": [
              "Perceptron(eta0=0.01, max_iter=1785, random_state=10)"
            ]
          },
          "metadata": {},
          "execution_count": 45
        }
      ]
    },
    {
      "cell_type": "code",
      "source": [
        "from sklearn.metrics import accuracy_score\n",
        "\n",
        "y_pred = ppn.predict(X_test)\n",
        "print('Accuracy: %.2f' % accuracy_score(y_test, y_pred))"
      ],
      "metadata": {
        "colab": {
          "base_uri": "https://localhost:8080/"
        },
        "id": "WO0Ou7k-knvN",
        "outputId": "317a61e2-7ca9-4159-f21b-18a5f8b9f559"
      },
      "execution_count": null,
      "outputs": [
        {
          "output_type": "stream",
          "name": "stdout",
          "text": [
            "Accuracy: 0.79\n"
          ]
        }
      ]
    },
    {
      "cell_type": "code",
      "source": [
        "cnf_matrix = metrics.confusion_matrix(y_test, y_pred)\n",
        "cnf_matrix"
      ],
      "metadata": {
        "colab": {
          "base_uri": "https://localhost:8080/"
        },
        "id": "g3RIOsLnk7hU",
        "outputId": "64c4dea4-9391-498a-e0da-84f92d65af7b"
      },
      "execution_count": null,
      "outputs": [
        {
          "output_type": "execute_result",
          "data": {
            "text/plain": [
              "array([[1134,   13,   54,   93,    9,   11,   76,    2,   34,    1],\n",
              "       [   4, 1357,    0,   39,    3,    1,    2,    0,    2,    0],\n",
              "       [  50,   17, 1048,   46,  116,   11,   99,    1,   16,    0],\n",
              "       [  39,   40,   34, 1211,   47,   10,   23,    2,    3,    5],\n",
              "       [   2,   30,  418,   57,  711,    2,  124,    4,   16,    0],\n",
              "       [   1,    1,    0,    0,    4, 1296,    5,   17,   10,   50],\n",
              "       [ 218,   21,  276,   76,  109,    6,  638,    2,   46,    0],\n",
              "       [   0,    0,    0,    0,    1,  270,    1, 1044,    1,  135],\n",
              "       [   7,    2,   18,   21,   12,   22,   23,    2, 1297,    2],\n",
              "       [   1,    1,    0,    0,    0,   28,    0,   11,    2, 1306]])"
            ]
          },
          "metadata": {},
          "execution_count": 47
        }
      ]
    },
    {
      "cell_type": "code",
      "source": [
        "class_names=[0,1,2] # name  of classes\n",
        "fig, ax = plt.subplots(figsize=(5, 5))\n",
        "tick_marks = np.arange(len(class_names))\n",
        "plt.xticks(tick_marks, class_names)\n",
        "plt.yticks(tick_marks, class_names)\n",
        "# create heatmap\n",
        "sns.heatmap(pd.DataFrame(cnf_matrix), annot=True, cmap=\"BuPu\" ,fmt='g')\n",
        "ax.xaxis.set_label_position(\"top\")\n",
        "plt.tight_layout()\n",
        "plt.title('Confusion Matrix', y=1.1)\n",
        "plt.ylabel('Actual Label')\n",
        "plt.xlabel('Predicted Label')"
      ],
      "metadata": {
        "colab": {
          "base_uri": "https://localhost:8080/",
          "height": 416
        },
        "id": "6XFWIFwSlKWj",
        "outputId": "63df5723-df9a-42d6-ac1b-85f95e8b8cce"
      },
      "execution_count": null,
      "outputs": [
        {
          "output_type": "execute_result",
          "data": {
            "text/plain": [
              "Text(0.5, 320.8, 'Predicted Label')"
            ]
          },
          "metadata": {},
          "execution_count": 48
        },
        {
          "output_type": "display_data",
          "data": {
            "image/png": "[encoded data removed]",
            "text/plain": [
              "<Figure size 360x360 with 2 Axes>"
            ]
          },
          "metadata": {
            "needs_background": "light"
          }
        }
      ]
    },
    {
      "cell_type": "markdown",
      "source": [
        "The perceptron performed alright. With an accuracy of 79%. The perceptron model gives me hope for the neural network models. The main flaw of this function was its inability to properly identify shirts. The model mixed up shirts with T-shirts, pullovers, and coats."
      ],
      "metadata": {
        "id": "CAOUblmrlR7l"
      }
    },
    {
      "cell_type": "markdown",
      "source": [
        "#Multi-Layer Neural Network"
      ],
      "metadata": {
        "id": "lnTs5Ejhmzxo"
      }
    },
    {
      "cell_type": "code",
      "source": [
        "(x_train, y_train), (x_test, y_test) = tf.keras.datasets.fashion_mnist.load_data()\n",
        "\n",
        "print(\"x_train shape:\", x_train.shape, \"y_train shape:\", y_train.shape)"
      ],
      "metadata": {
        "colab": {
          "base_uri": "https://localhost:8080/"
        },
        "id": "60QUNTDKm5mL",
        "outputId": "1bbf455b-275d-4050-bcc4-69c3aa7cb368"
      },
      "execution_count": null,
      "outputs": [
        {
          "output_type": "stream",
          "name": "stdout",
          "text": [
            "Downloading data from https://storage.googleapis.com/tensorflow/tf-keras-datasets/train-labels-idx1-ubyte.gz\n",
            "32768/29515 [=================================] - 0s 0us/step\n",
            "40960/29515 [=========================================] - 0s 0us/step\n",
            "Downloading data from https://storage.googleapis.com/tensorflow/tf-keras-datasets/train-images-idx3-ubyte.gz\n",
            "26427392/26421880 [==============================] - 0s 0us/step\n",
            "26435584/26421880 [==============================] - 0s 0us/step\n",
            "Downloading data from https://storage.googleapis.com/tensorflow/tf-keras-datasets/t10k-labels-idx1-ubyte.gz\n",
            "16384/5148 [===============================================================================================] - 0s 0us/step\n",
            "Downloading data from https://storage.googleapis.com/tensorflow/tf-keras-datasets/t10k-images-idx3-ubyte.gz\n",
            "4423680/4422102 [==============================] - 0s 0us/step\n",
            "4431872/4422102 [==============================] - 0s 0us/step\n",
            "x_train shape: (60000, 28, 28) y_train shape: (60000,)\n"
          ]
        }
      ]
    },
    {
      "cell_type": "code",
      "source": [
        "print(x_train.shape)\n",
        "print(x_test.shape)"
      ],
      "metadata": {
        "colab": {
          "base_uri": "https://localhost:8080/"
        },
        "id": "6FcrhabIsSah",
        "outputId": "c3e38a36-f6cf-4878-d594-afda5e99b094"
      },
      "execution_count": null,
      "outputs": [
        {
          "output_type": "stream",
          "name": "stdout",
          "text": [
            "(60000, 28, 28)\n",
            "(10000, 28, 28)\n"
          ]
        }
      ]
    },
    {
      "cell_type": "code",
      "source": [
        "image_size = 784\n",
        "x_train = x_train.reshape(x_train.shape[0], image_size)\n",
        "x_test = x_test.reshape(x_test.shape[0], image_size)"
      ],
      "metadata": {
        "id": "6N1JYX1dsVxI"
      },
      "execution_count": null,
      "outputs": []
    },
    {
      "cell_type": "code",
      "source": [
        "y_train.shape"
      ],
      "metadata": {
        "colab": {
          "base_uri": "https://localhost:8080/"
        },
        "id": "g-5odCXcsZEG",
        "outputId": "a63c63b6-7f42-460f-a3d9-cdd5f3accf33"
      },
      "execution_count": null,
      "outputs": [
        {
          "output_type": "execute_result",
          "data": {
            "text/plain": [
              "(60000,)"
            ]
          },
          "metadata": {},
          "execution_count": 53
        }
      ]
    },
    {
      "cell_type": "code",
      "source": [
        "num_classes = 10\n",
        "y_train = tf.keras.utils.to_categorical(y_train, num_classes)\n",
        "y_test = tf.keras.utils.to_categorical(y_test, num_classes)"
      ],
      "metadata": {
        "id": "VE7HlzkduOfk"
      },
      "execution_count": null,
      "outputs": []
    },
    {
      "cell_type": "code",
      "source": [
        "model = Sequential()\n",
        "\n",
        "model.add(Dense(units=512, activation='sigmoid', input_shape=(image_size,)))\n",
        "model.add(Dense(units=512, activation='sigmoid'))\n",
        "model.add(Dense(units=512, activation='sigmoid'))\n",
        "model.add(Dense(units=num_classes, activation='softmax'))\n",
        "\n",
        "model.summary()"
      ],
      "metadata": {
        "colab": {
          "base_uri": "https://localhost:8080/"
        },
        "id": "kZxk4SZOuRIi",
        "outputId": "cef12762-f9f5-4b0d-d3b1-5ded5133fbaf"
      },
      "execution_count": null,
      "outputs": [
        {
          "output_type": "stream",
          "name": "stdout",
          "text": [
            "Model: \"sequential\"\n",
            "_________________________________________________________________\n",
            " Layer (type)                Output Shape              Param #   \n",
            "=================================================================\n",
            " dense (Dense)               (None, 512)               401920    \n",
            "                                                                 \n",
            " dense_1 (Dense)             (None, 512)               262656    \n",
            "                                                                 \n",
            " dense_2 (Dense)             (None, 512)               262656    \n",
            "                                                                 \n",
            " dense_3 (Dense)             (None, 10)                5130      \n",
            "                                                                 \n",
            "=================================================================\n",
            "Total params: 932,362\n",
            "Trainable params: 932,362\n",
            "Non-trainable params: 0\n",
            "_________________________________________________________________\n"
          ]
        }
      ]
    },
    {
      "cell_type": "code",
      "source": [
        "model.compile(optimizer=\"sgd\", loss='categorical_crossentropy', metrics=['accuracy'])\n",
        "history = model.fit(x_train, y_train, batch_size=16, epochs=50, verbose=True, validation_split=.1)\n",
        "loss, accuracy  = model.evaluate(x_test, y_test, verbose=False)"
      ],
      "metadata": {
        "colab": {
          "base_uri": "https://localhost:8080/"
        },
        "id": "_IABRNY_ueia",
        "outputId": "2a6f5564-5ccb-4466-fc89-a236698ee109"
      },
      "execution_count": null,
      "outputs": [
        {
          "output_type": "stream",
          "name": "stdout",
          "text": [
            "Epoch 1/50\n",
            "3375/3375 [==============================] - 40s 12ms/step - loss: 1.2947 - accuracy: 0.5774 - val_loss: 0.7864 - val_accuracy: 0.7087\n",
            "Epoch 2/50\n",
            "3375/3375 [==============================] - 31s 9ms/step - loss: 0.6856 - accuracy: 0.7509 - val_loss: 0.6280 - val_accuracy: 0.7728\n",
            "Epoch 3/50\n",
            "3375/3375 [==============================] - 31s 9ms/step - loss: 0.6226 - accuracy: 0.7748 - val_loss: 0.6185 - val_accuracy: 0.7842\n",
            "Epoch 4/50\n",
            "3375/3375 [==============================] - 30s 9ms/step - loss: 0.6221 - accuracy: 0.7783 - val_loss: 0.6254 - val_accuracy: 0.7707\n",
            "Epoch 5/50\n",
            "3375/3375 [==============================] - 31s 9ms/step - loss: 0.6304 - accuracy: 0.7723 - val_loss: 0.6379 - val_accuracy: 0.7775\n",
            "Epoch 6/50\n",
            "3375/3375 [==============================] - 30s 9ms/step - loss: 0.6428 - accuracy: 0.7658 - val_loss: 0.6403 - val_accuracy: 0.7685\n",
            "Epoch 7/50\n",
            "3375/3375 [==============================] - 32s 10ms/step - loss: 0.6639 - accuracy: 0.7560 - val_loss: 0.6500 - val_accuracy: 0.7827\n",
            "Epoch 8/50\n",
            "3375/3375 [==============================] - 31s 9ms/step - loss: 0.6624 - accuracy: 0.7594 - val_loss: 0.6561 - val_accuracy: 0.7517\n",
            "Epoch 9/50\n",
            "3375/3375 [==============================] - 31s 9ms/step - loss: 0.6771 - accuracy: 0.7416 - val_loss: 0.7403 - val_accuracy: 0.6957\n",
            "Epoch 10/50\n",
            "3375/3375 [==============================] - 31s 9ms/step - loss: 0.6971 - accuracy: 0.7375 - val_loss: 0.6917 - val_accuracy: 0.7303\n",
            "Epoch 11/50\n",
            "3375/3375 [==============================] - 30s 9ms/step - loss: 0.7045 - accuracy: 0.7333 - val_loss: 0.6894 - val_accuracy: 0.7352\n",
            "Epoch 12/50\n",
            "3375/3375 [==============================] - 31s 9ms/step - loss: 0.7181 - accuracy: 0.7322 - val_loss: 0.7587 - val_accuracy: 0.7092\n",
            "Epoch 13/50\n",
            "3375/3375 [==============================] - 31s 9ms/step - loss: 0.7234 - accuracy: 0.7267 - val_loss: 0.7457 - val_accuracy: 0.7297\n",
            "Epoch 14/50\n",
            "3375/3375 [==============================] - 31s 9ms/step - loss: 0.7513 - accuracy: 0.7143 - val_loss: 0.7752 - val_accuracy: 0.6830\n",
            "Epoch 15/50\n",
            "3375/3375 [==============================] - 31s 9ms/step - loss: 0.7426 - accuracy: 0.7183 - val_loss: 0.7217 - val_accuracy: 0.7367\n",
            "Epoch 16/50\n",
            "3375/3375 [==============================] - 30s 9ms/step - loss: 0.7218 - accuracy: 0.7242 - val_loss: 0.6975 - val_accuracy: 0.7433\n",
            "Epoch 17/50\n",
            "3375/3375 [==============================] - 30s 9ms/step - loss: 0.7451 - accuracy: 0.7212 - val_loss: 0.7020 - val_accuracy: 0.7485\n",
            "Epoch 18/50\n",
            "3375/3375 [==============================] - 30s 9ms/step - loss: 0.7379 - accuracy: 0.7115 - val_loss: 0.6755 - val_accuracy: 0.7448\n",
            "Epoch 19/50\n",
            "3375/3375 [==============================] - 30s 9ms/step - loss: 0.7602 - accuracy: 0.7111 - val_loss: 0.7355 - val_accuracy: 0.7273\n",
            "Epoch 20/50\n",
            "3375/3375 [==============================] - 30s 9ms/step - loss: 0.7428 - accuracy: 0.7178 - val_loss: 0.7261 - val_accuracy: 0.7050\n",
            "Epoch 21/50\n",
            "3375/3375 [==============================] - 30s 9ms/step - loss: 0.7566 - accuracy: 0.7138 - val_loss: 0.7623 - val_accuracy: 0.7120\n",
            "Epoch 22/50\n",
            "3375/3375 [==============================] - 31s 9ms/step - loss: 0.7782 - accuracy: 0.7004 - val_loss: 0.7650 - val_accuracy: 0.7138\n",
            "Epoch 23/50\n",
            "3375/3375 [==============================] - 31s 9ms/step - loss: 0.7618 - accuracy: 0.7044 - val_loss: 0.7793 - val_accuracy: 0.6925\n",
            "Epoch 24/50\n",
            "3375/3375 [==============================] - 30s 9ms/step - loss: 0.7833 - accuracy: 0.6954 - val_loss: 0.7992 - val_accuracy: 0.7087\n",
            "Epoch 25/50\n",
            "3375/3375 [==============================] - 30s 9ms/step - loss: 0.8126 - accuracy: 0.6905 - val_loss: 0.7648 - val_accuracy: 0.7163\n",
            "Epoch 26/50\n",
            "3375/3375 [==============================] - 30s 9ms/step - loss: 0.7696 - accuracy: 0.7019 - val_loss: 0.7778 - val_accuracy: 0.7212\n",
            "Epoch 27/50\n",
            "3375/3375 [==============================] - 33s 10ms/step - loss: 0.8004 - accuracy: 0.6959 - val_loss: 0.7338 - val_accuracy: 0.7218\n",
            "Epoch 28/50\n",
            "3375/3375 [==============================] - 30s 9ms/step - loss: 0.7938 - accuracy: 0.6977 - val_loss: 0.7984 - val_accuracy: 0.7092\n",
            "Epoch 29/50\n",
            "3375/3375 [==============================] - 31s 9ms/step - loss: 0.8097 - accuracy: 0.6881 - val_loss: 0.7744 - val_accuracy: 0.7037\n",
            "Epoch 30/50\n",
            "3375/3375 [==============================] - 30s 9ms/step - loss: 0.7956 - accuracy: 0.6912 - val_loss: 0.7917 - val_accuracy: 0.6925\n",
            "Epoch 31/50\n",
            "3375/3375 [==============================] - 30s 9ms/step - loss: 0.7625 - accuracy: 0.7075 - val_loss: 0.7294 - val_accuracy: 0.7425\n",
            "Epoch 32/50\n",
            "3375/3375 [==============================] - 31s 9ms/step - loss: 0.7581 - accuracy: 0.7070 - val_loss: 0.7608 - val_accuracy: 0.7003\n",
            "Epoch 33/50\n",
            "3375/3375 [==============================] - 31s 9ms/step - loss: 0.7739 - accuracy: 0.7035 - val_loss: 0.8986 - val_accuracy: 0.6737\n",
            "Epoch 34/50\n",
            "3375/3375 [==============================] - 31s 9ms/step - loss: 0.8182 - accuracy: 0.6807 - val_loss: 0.7973 - val_accuracy: 0.6410\n",
            "Epoch 35/50\n",
            "3375/3375 [==============================] - 31s 9ms/step - loss: 0.8032 - accuracy: 0.6942 - val_loss: 0.7938 - val_accuracy: 0.6790\n",
            "Epoch 36/50\n",
            "3375/3375 [==============================] - 31s 9ms/step - loss: 0.7895 - accuracy: 0.6983 - val_loss: 0.7776 - val_accuracy: 0.6975\n",
            "Epoch 37/50\n",
            "3375/3375 [==============================] - 31s 9ms/step - loss: 0.7831 - accuracy: 0.6955 - val_loss: 0.7465 - val_accuracy: 0.7110\n",
            "Epoch 38/50\n",
            "3375/3375 [==============================] - 32s 10ms/step - loss: 0.7627 - accuracy: 0.7043 - val_loss: 0.7447 - val_accuracy: 0.7137\n",
            "Epoch 39/50\n",
            "3375/3375 [==============================] - 33s 10ms/step - loss: 0.7472 - accuracy: 0.7110 - val_loss: 0.7659 - val_accuracy: 0.7137\n",
            "Epoch 40/50\n",
            "3375/3375 [==============================] - 32s 10ms/step - loss: 0.7586 - accuracy: 0.7080 - val_loss: 0.7620 - val_accuracy: 0.7090\n",
            "Epoch 41/50\n",
            "3375/3375 [==============================] - 32s 9ms/step - loss: 0.8105 - accuracy: 0.6974 - val_loss: 0.7727 - val_accuracy: 0.6975\n",
            "Epoch 42/50\n",
            "3375/3375 [==============================] - 33s 10ms/step - loss: 0.7589 - accuracy: 0.7102 - val_loss: 0.7465 - val_accuracy: 0.7153\n",
            "Epoch 43/50\n",
            "3375/3375 [==============================] - 32s 10ms/step - loss: 0.7509 - accuracy: 0.7134 - val_loss: 0.7351 - val_accuracy: 0.7297\n",
            "Epoch 44/50\n",
            "3375/3375 [==============================] - 32s 10ms/step - loss: 0.7499 - accuracy: 0.7064 - val_loss: 0.7475 - val_accuracy: 0.7210\n",
            "Epoch 45/50\n",
            "3375/3375 [==============================] - 33s 10ms/step - loss: 0.7480 - accuracy: 0.7122 - val_loss: 0.7731 - val_accuracy: 0.7193\n",
            "Epoch 46/50\n",
            "3375/3375 [==============================] - 33s 10ms/step - loss: 0.7741 - accuracy: 0.6961 - val_loss: 0.7409 - val_accuracy: 0.6958\n",
            "Epoch 47/50\n",
            "3375/3375 [==============================] - 32s 10ms/step - loss: 0.7757 - accuracy: 0.6932 - val_loss: 0.7644 - val_accuracy: 0.6930\n",
            "Epoch 48/50\n",
            "3375/3375 [==============================] - 32s 9ms/step - loss: 0.7721 - accuracy: 0.7056 - val_loss: 0.7907 - val_accuracy: 0.7205\n",
            "Epoch 49/50\n",
            "3375/3375 [==============================] - 33s 10ms/step - loss: 0.7521 - accuracy: 0.7148 - val_loss: 0.7425 - val_accuracy: 0.6930\n",
            "Epoch 50/50\n",
            "3375/3375 [==============================] - 33s 10ms/step - loss: 0.7415 - accuracy: 0.7192 - val_loss: 0.7674 - val_accuracy: 0.7242\n"
          ]
        }
      ]
    },
    {
      "cell_type": "code",
      "source": [
        "plt.plot(history.history['accuracy'])\n",
        "plt.plot(history.history['val_accuracy'])\n",
        "plt.title('model accuracy')\n",
        "plt.ylabel('accuracy')\n",
        "plt.xlabel('epoch')\n",
        "plt.legend(['training', 'validation'], loc='best')\n",
        "plt.show()\n",
        "\n",
        "print(f'Test loss: {loss:.3}')\n",
        "print(f'Test accuracy: {accuracy:.3}')"
      ],
      "metadata": {
        "colab": {
          "base_uri": "https://localhost:8080/",
          "height": 336
        },
        "id": "47GDEzXMuncq",
        "outputId": "73937bd7-0233-4441-fbb4-972bbd390e08"
      },
      "execution_count": null,
      "outputs": [
        {
          "output_type": "display_data",
          "data": {
            "image/png": "[encoded data removed]",
            "text/plain": [
              "<Figure size 432x288 with 1 Axes>"
            ]
          },
          "metadata": {
            "needs_background": "light"
          }
        },
        {
          "output_type": "stream",
          "name": "stdout",
          "text": [
            "Test loss: 0.796\n",
            "Test accuracy: 0.709\n"
          ]
        }
      ]
    },
    {
      "cell_type": "markdown",
      "source": [
        "The multi-layer neural network was a bit of a letdown in this case. With a test accuracy of just 71%, it underperformed the perceptron! I think with more tweaking, this model could defenitly perform at a higher accuracy. I was worried about overfitting, but it appears that the model did not overfit because the training and validation graph shows the training and validation scores very similarly."
      ],
      "metadata": {
        "id": "cyxxQ9UH0p15"
      }
    },
    {
      "cell_type": "markdown",
      "source": [
        "#Convolutional Neural Network"
      ],
      "metadata": {
        "id": "R0w4_NcY1Op8"
      }
    },
    {
      "cell_type": "code",
      "source": [
        "from keras.layers import Dropout\n",
        "from keras.preprocessing.image import ImageDataGenerator\n",
        "from keras.layers import Activation, Conv2D, MaxPooling2D, ZeroPadding2D, GlobalAveragePooling2D, Flatten\n",
        "from tensorflow.keras.layers import BatchNormalization\n",
        "\n",
        "(X_train, y_train), (X_test, y_test) = tf.keras.datasets.fashion_mnist.load_data()\n",
        "\n",
        "#print(\"x_train shape:\", x_train.shape, \"y_train shape:\", y_train.shape)"
      ],
      "metadata": {
        "id": "42blOljN2ltx"
      },
      "execution_count": null,
      "outputs": []
    },
    {
      "cell_type": "code",
      "source": [
        "X_train = X_train.reshape(60000, 28, 28, 1)\n",
        "X_test = X_test.reshape(10000, 28, 28, 1)\n",
        "\n",
        "X_train = X_train.astype('float32')\n",
        "X_test = X_test.astype('float32')\n",
        "\n",
        "X_train /= 255\n",
        "X_test /= 255\n",
        "\n",
        "print(\"Training matrix shape\", X_train.shape)\n",
        "print(\"Testing matrix shape\", X_test.shape)"
      ],
      "metadata": {
        "colab": {
          "base_uri": "https://localhost:8080/"
        },
        "id": "dX-5yyLH29Lp",
        "outputId": "f8445c3a-14e9-4eb1-f1a6-0bc3a302898e"
      },
      "execution_count": null,
      "outputs": [
        {
          "output_type": "stream",
          "name": "stdout",
          "text": [
            "Training matrix shape (60000, 28, 28, 1)\n",
            "Testing matrix shape (10000, 28, 28, 1)\n"
          ]
        }
      ]
    },
    {
      "cell_type": "code",
      "source": [
        "num_classes = 10\n",
        "y_train = tf.keras.utils.to_categorical(y_train, num_classes)\n",
        "y_test = tf.keras.utils.to_categorical(y_test, num_classes)"
      ],
      "metadata": {
        "id": "eMgiauTG3kDJ"
      },
      "execution_count": null,
      "outputs": []
    },
    {
      "cell_type": "code",
      "source": [
        "model = Sequential()\n",
        "\n",
        "model.add(Conv2D(32, (3, 3), input_shape=(28,28,1)))\n",
        "model.add(BatchNormalization(axis=-1))\n",
        "convLayer01 = Activation('relu')\n",
        "model.add(convLayer01)\n",
        "\n",
        "model.add(Conv2D(32, (3, 3)))\n",
        "model.add(BatchNormalization(axis=-1))\n",
        "model.add(Activation('relu'))\n",
        "convLayer02 = MaxPooling2D(pool_size=(2,2))\n",
        "model.add(convLayer02)\n",
        "\n",
        "model.add(Conv2D(64,(3, 3)))\n",
        "model.add(BatchNormalization(axis=-1))\n",
        "convLayer03 = Activation('relu')\n",
        "model.add(convLayer03)\n",
        "\n",
        "model.add(Conv2D(64, (3, 3)))\n",
        "model.add(BatchNormalization(axis=-1))\n",
        "model.add(Activation('relu'))\n",
        "convLayer04 = MaxPooling2D(pool_size=(2,2))\n",
        "model.add(convLayer04)\n",
        "model.add(Flatten())\n",
        "\n",
        "model.add(Dense(512))\n",
        "model.add(BatchNormalization())\n",
        "model.add(Activation('relu'))\n",
        "\n",
        "model.add(Dropout(0.2))\n",
        "model.add(Dense(10))\n",
        "model.add(Activation('softmax'))"
      ],
      "metadata": {
        "id": "YFVhCBch3miB"
      },
      "execution_count": null,
      "outputs": []
    },
    {
      "cell_type": "code",
      "source": [
        "model.summary()"
      ],
      "metadata": {
        "colab": {
          "base_uri": "https://localhost:8080/"
        },
        "id": "T_y-zWEa34sK",
        "outputId": "3fdd4be8-68d2-413f-fae8-288f6330ceee"
      },
      "execution_count": null,
      "outputs": [
        {
          "output_type": "stream",
          "name": "stdout",
          "text": [
            "Model: \"sequential_1\"\n",
            "_________________________________________________________________\n",
            " Layer (type)                Output Shape              Param #   \n",
            "=================================================================\n",
            " conv2d (Conv2D)             (None, 26, 26, 32)        320       \n",
            "                                                                 \n",
            " batch_normalization (BatchN  (None, 26, 26, 32)       128       \n",
            " ormalization)                                                   \n",
            "                                                                 \n",
            " activation (Activation)     (None, 26, 26, 32)        0         \n",
            "                                                                 \n",
            " conv2d_1 (Conv2D)           (None, 24, 24, 32)        9248      \n",
            "                                                                 \n",
            " batch_normalization_1 (Batc  (None, 24, 24, 32)       128       \n",
            " hNormalization)                                                 \n",
            "                                                                 \n",
            " activation_1 (Activation)   (None, 24, 24, 32)        0         \n",
            "                                                                 \n",
            " max_pooling2d (MaxPooling2D  (None, 12, 12, 32)       0         \n",
            " )                                                               \n",
            "                                                                 \n",
            " conv2d_2 (Conv2D)           (None, 10, 10, 64)        18496     \n",
            "                                                                 \n",
            " batch_normalization_2 (Batc  (None, 10, 10, 64)       256       \n",
            " hNormalization)                                                 \n",
            "                                                                 \n",
            " activation_2 (Activation)   (None, 10, 10, 64)        0         \n",
            "                                                                 \n",
            " conv2d_3 (Conv2D)           (None, 8, 8, 64)          36928     \n",
            "                                                                 \n",
            " batch_normalization_3 (Batc  (None, 8, 8, 64)         256       \n",
            " hNormalization)                                                 \n",
            "                                                                 \n",
            " activation_3 (Activation)   (None, 8, 8, 64)          0         \n",
            "                                                                 \n",
            " max_pooling2d_1 (MaxPooling  (None, 4, 4, 64)         0         \n",
            " 2D)                                                             \n",
            "                                                                 \n",
            " flatten (Flatten)           (None, 1024)              0         \n",
            "                                                                 \n",
            " dense_4 (Dense)             (None, 512)               524800    \n",
            "                                                                 \n",
            " batch_normalization_4 (Batc  (None, 512)              2048      \n",
            " hNormalization)                                                 \n",
            "                                                                 \n",
            " activation_4 (Activation)   (None, 512)               0         \n",
            "                                                                 \n",
            " dropout (Dropout)           (None, 512)               0         \n",
            "                                                                 \n",
            " dense_5 (Dense)             (None, 10)                5130      \n",
            "                                                                 \n",
            " activation_5 (Activation)   (None, 10)                0         \n",
            "                                                                 \n",
            "=================================================================\n",
            "Total params: 597,738\n",
            "Trainable params: 596,330\n",
            "Non-trainable params: 1,408\n",
            "_________________________________________________________________\n"
          ]
        }
      ]
    },
    {
      "cell_type": "code",
      "source": [
        "model.compile(loss='categorical_crossentropy', optimizer='adam', metrics=['accuracy'])"
      ],
      "metadata": {
        "id": "PjiBeHxY39_5"
      },
      "execution_count": null,
      "outputs": []
    },
    {
      "cell_type": "code",
      "source": [
        "gen = ImageDataGenerator(rotation_range=8, width_shift_range=0.08, shear_range=0.3,\n",
        "                         height_shift_range=0.08, zoom_range=0.08)\n",
        "\n",
        "test_gen = ImageDataGenerator()"
      ],
      "metadata": {
        "id": "5hWAT7aY4MjO"
      },
      "execution_count": null,
      "outputs": []
    },
    {
      "cell_type": "code",
      "source": [
        "train_generator = gen.flow(X_train, y_train, batch_size=128)\n",
        "test_generator = test_gen.flow(X_test, y_test, batch_size=128)"
      ],
      "metadata": {
        "id": "-CrM6HFE4GTM"
      },
      "execution_count": null,
      "outputs": []
    },
    {
      "cell_type": "code",
      "source": [
        "model.fit(train_generator, steps_per_epoch=60000//128, epochs=15, verbose=1,\n",
        "                    validation_data=test_generator, validation_steps=10000//128)\n"
      ],
      "metadata": {
        "colab": {
          "base_uri": "https://localhost:8080/"
        },
        "id": "dvpzvTwO4OSa",
        "outputId": "f451c84d-3403-448c-9833-65d420fdcb8d"
      },
      "execution_count": null,
      "outputs": [
        {
          "output_type": "stream",
          "name": "stdout",
          "text": [
            "Epoch 1/15\n",
            "468/468 [==============================] - 182s 388ms/step - loss: 0.4845 - accuracy: 0.8210 - val_loss: 0.4536 - val_accuracy: 0.8370\n",
            "Epoch 2/15\n",
            "468/468 [==============================] - 175s 375ms/step - loss: 0.3555 - accuracy: 0.8680 - val_loss: 0.3594 - val_accuracy: 0.8702\n",
            "Epoch 3/15\n",
            "468/468 [==============================] - 173s 370ms/step - loss: 0.3167 - accuracy: 0.8823 - val_loss: 0.2929 - val_accuracy: 0.8944\n",
            "Epoch 4/15\n",
            "468/468 [==============================] - 174s 371ms/step - loss: 0.2929 - accuracy: 0.8912 - val_loss: 0.2513 - val_accuracy: 0.9097\n",
            "Epoch 5/15\n",
            "468/468 [==============================] - 174s 372ms/step - loss: 0.2787 - accuracy: 0.8968 - val_loss: 0.3099 - val_accuracy: 0.8880\n",
            "Epoch 6/15\n",
            "468/468 [==============================] - 173s 370ms/step - loss: 0.2648 - accuracy: 0.9019 - val_loss: 0.2375 - val_accuracy: 0.9138\n",
            "Epoch 7/15\n",
            "468/468 [==============================] - 174s 371ms/step - loss: 0.2490 - accuracy: 0.9076 - val_loss: 0.2482 - val_accuracy: 0.9086\n",
            "Epoch 8/15\n",
            "468/468 [==============================] - 174s 372ms/step - loss: 0.2413 - accuracy: 0.9109 - val_loss: 0.2664 - val_accuracy: 0.9003\n",
            "Epoch 9/15\n",
            "468/468 [==============================] - 174s 371ms/step - loss: 0.2357 - accuracy: 0.9128 - val_loss: 0.2680 - val_accuracy: 0.9048\n",
            "Epoch 10/15\n",
            "468/468 [==============================] - 176s 377ms/step - loss: 0.2278 - accuracy: 0.9161 - val_loss: 0.2571 - val_accuracy: 0.9117\n",
            "Epoch 11/15\n",
            "468/468 [==============================] - 176s 376ms/step - loss: 0.2218 - accuracy: 0.9177 - val_loss: 0.2289 - val_accuracy: 0.9191\n",
            "Epoch 12/15\n",
            "468/468 [==============================] - 175s 375ms/step - loss: 0.2159 - accuracy: 0.9199 - val_loss: 0.2436 - val_accuracy: 0.9142\n",
            "Epoch 13/15\n",
            "468/468 [==============================] - 177s 377ms/step - loss: 0.2125 - accuracy: 0.9224 - val_loss: 0.2496 - val_accuracy: 0.9134\n",
            "Epoch 14/15\n",
            "468/468 [==============================] - 175s 374ms/step - loss: 0.2047 - accuracy: 0.9244 - val_loss: 0.2260 - val_accuracy: 0.9209\n",
            "Epoch 15/15\n",
            "468/468 [==============================] - 188s 401ms/step - loss: 0.2012 - accuracy: 0.9253 - val_loss: 0.2604 - val_accuracy: 0.9072\n"
          ]
        },
        {
          "output_type": "execute_result",
          "data": {
            "text/plain": [
              "<keras.callbacks.History at 0x7f1871edc890>"
            ]
          },
          "metadata": {},
          "execution_count": 79
        }
      ]
    },
    {
      "cell_type": "code",
      "source": [
        "score = model.evaluate(X_test, y_test)\n",
        "print('Test score:', score[0])\n",
        "print('Test accuracy:', score[1])"
      ],
      "metadata": {
        "colab": {
          "base_uri": "https://localhost:8080/"
        },
        "id": "VF7PEng9C1H-",
        "outputId": "73f66845-9562-453d-fba3-b20a2bb80e00"
      },
      "execution_count": null,
      "outputs": [
        {
          "output_type": "stream",
          "name": "stdout",
          "text": [
            "313/313 [==============================] - 8s 26ms/step - loss: 0.2618 - accuracy: 0.9069\n",
            "Test score: 0.26182886958122253\n",
            "Test accuracy: 0.9068999886512756\n"
          ]
        }
      ]
    },
    {
      "cell_type": "markdown",
      "source": [
        "The convolutional neural network performed pretty good with an accuracy of 91% after running for 47 minutes. After 14 iterations, the accuracy went down on the last epoch which is interesting. With more tweaking, I believe this model would have performed much better, but I do not have the patience."
      ],
      "metadata": {
        "id": "uFD5r-YMC4nO"
      }
    },
    {
      "cell_type": "markdown",
      "source": [
        "#Conclusion"
      ],
      "metadata": {
        "id": "o_bZOM5xC5B-"
      }
    },
    {
      "cell_type": "markdown",
      "source": [
        "Out of the six created models, the best performing one was the convolutional neural network, which makes sense because neural networks are very good at computer vision. The worst performing model was the random forest. I think the decison tree did the worst due to the design of decision trees, making decisions after single pixels does not make the most sense for visual learning and identifying objects in pictures. This project has increased my understanding in the six different types of machine learning models generated."
      ],
      "metadata": {
        "id": "KEX12uqTC89N"
      }
    }
  ]
}